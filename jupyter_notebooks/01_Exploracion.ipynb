{
 "cells": [
  {
   "cell_type": "markdown",
   "metadata": {},
   "source": [
    "# Fase de Análisis Inicial y Unión de Datos\n",
    "\n",
    "En esta fase el objetivo será analizar todos los conjuntos de datos que tenemos, identificar sus problemas y desarrollar una serie de funciones para solucionar problemas que no nos permiten unir los datos"
   ]
  },
  {
   "cell_type": "code",
   "execution_count": 1,
   "metadata": {},
   "outputs": [],
   "source": [
    "import pandas as pd\n",
    "import numpy as np\n",
    "import matplotlib.pyplot as plt\n",
    "import seaborn as sns\n",
    "import warnings\n",
    "import sys\n",
    "sys.path.append(\"../\") #Para poder importar\n",
    "from src.SupportExploracion import traducir, fill_year, year_to_int, date_to_datetime\n",
    "warnings.filterwarnings('ignore')\n",
    "# Carga el dataset de trabajo\n",
    "pd.set_option(\"display.max_columns\", None) #Ver todo\n",
    "df_2013 = pd.read_csv(\"../datos/raw/datos-2013.csv\",delimiter=\";\")\n",
    "df_2014 = pd.read_csv(\"../datos/raw/datos-2014.csv\",delimiter=\";\")   \n",
    "df_2015 = pd.read_csv(\"../datos/raw/datos-2015.csv\",delimiter=\";\")\n",
    "df_2016 = pd.read_csv(\"../datos/raw/datos-2016.csv\",delimiter=\";\")\n",
    "df_2017 = pd.read_csv(\"../datos/raw/datos-2017.csv\",delimiter=\";\")\n",
    "df_2018 = pd.read_csv(\"../datos/raw/datos-2018.csv\",delimiter=\";\")\n",
    "df_2019 = pd.read_csv(\"../datos/raw/datos-2019.csv\",delimiter=\";\")\n",
    "df_2020 = pd.read_csv(\"../datos/raw/datos-2020.csv\",delimiter=\";\")\n",
    "df_2021 = pd.read_csv(\"../datos/raw/datos-2021.csv\",delimiter=\";\")"
   ]
  },
  {
   "cell_type": "markdown",
   "metadata": {},
   "source": [
    "En la carga de datos observamos que el delimitador usado es el ; en vez de la ,"
   ]
  },
  {
   "cell_type": "code",
   "execution_count": 2,
   "metadata": {},
   "outputs": [],
   "source": [
    "columnas = list(df_2013.columns)\n",
    "for columna in columnas:\n",
    "    newname = traducir(columna) #Devuelve un diccionario\n",
    "    df_2013.rename(columns=newname,inplace=True)\n",
    "    df_2014.rename(columns=newname,inplace=True)\n",
    "    df_2015.rename(columns=newname,inplace=True)\n",
    "    df_2016.rename(columns=newname,inplace=True)\n",
    "    df_2017.rename(columns=newname,inplace=True)\n",
    "    df_2018.rename(columns=newname,inplace=True)\n",
    "    df_2019.rename(columns=newname,inplace=True)\n",
    "    df_2020.rename(columns=newname,inplace=True)\n",
    "    df_2021.rename(columns=newname,inplace=True)\n",
    "    "
   ]
  },
  {
   "cell_type": "markdown",
   "metadata": {},
   "source": [
    "Realizamos la conversion de todas las columnas de todas las tablas al español y minúscula"
   ]
  },
  {
   "cell_type": "markdown",
   "metadata": {},
   "source": [
    "# Fix año Fiscal\n",
    "\n",
    "Rellenamos en cada Dataframe la columna año fiscal, para dejar la columna con el menor número de nulos posibles y la volvemos tipo int"
   ]
  },
  {
   "cell_type": "code",
   "execution_count": 3,
   "metadata": {},
   "outputs": [],
   "source": [
    "lista_df = [df_2013,df_2014,df_2015,df_2016,df_2017,df_2018,df_2019,df_2020,df_2021]\n",
    "years = [2013,2014,2015,2016,2017,2018,2019,2020,2021]\n",
    "rellenaryear = list(map(fill_year,lista_df,years))\n",
    "pasarint = list(map(year_to_int,lista_df))\n"
   ]
  },
  {
   "cell_type": "markdown",
   "metadata": {},
   "source": [
    "# Pasar fecha de registro a formato datetime\n",
    "\n",
    "Para tener todos los datos en el mismo formato vamos a pasar todas las columnas \"fecha_registro\" a formato datetime ignorando los valores nulos"
   ]
  },
  {
   "cell_type": "code",
   "execution_count": 4,
   "metadata": {},
   "outputs": [
    {
     "name": "stdout",
     "output_type": "stream",
     "text": [
      "<class 'pandas.core.frame.DataFrame'>\n",
      "RangeIndex: 190479 entries, 0 to 190478\n",
      "Data columns (total 16 columns):\n",
      " #   Column                       Non-Null Count   Dtype         \n",
      "---  ------                       --------------   -----         \n",
      " 0   código del órgano superior   185999 non-null  float64       \n",
      " 1   nombre del órgano superior   123811 non-null  object        \n",
      " 2   código del órgano            188418 non-null  float64       \n",
      " 3   nombre del órgano            185457 non-null  object        \n",
      " 4   código de la unidad gestora  186949 non-null  float64       \n",
      " 5   nombre de la unidad gestora  188076 non-null  object        \n",
      " 6   categoría económica          187950 non-null  object        \n",
      " 7   origen de los ingresos       181808 non-null  object        \n",
      " 8   tipo de ingresos             181798 non-null  object        \n",
      " 9   detalle                      186726 non-null  object        \n",
      " 10  valor previsto actualizado   180955 non-null  object        \n",
      " 11  valor registrado             182124 non-null  object        \n",
      " 12  valor ejecutado              182807 non-null  object        \n",
      " 13  porcentaje ejecutado         186281 non-null  object        \n",
      " 14  fecha de registro            183488 non-null  datetime64[ns]\n",
      " 15  año fiscal                   190479 non-null  int64         \n",
      "dtypes: datetime64[ns](1), float64(3), int64(1), object(11)\n",
      "memory usage: 23.3+ MB\n"
     ]
    }
   ],
   "source": [
    "lista_df = [df_2013,df_2014,df_2015,df_2016,df_2017,df_2018,df_2019,df_2020,df_2021]\n",
    "todatetime = list(map(date_to_datetime,lista_df))\n",
    "df_2017.info()\n"
   ]
  },
  {
   "cell_type": "code",
   "execution_count": 15,
   "metadata": {},
   "outputs": [],
   "source": [
    "datos = df_2013.groupby(\"código del órgano superior\")[\"nombre del órgano superior\"].first()\n",
    "lista_codigos = list(datos.index)\n",
    "lista_names = list(datos.values)\n",
    "diccionario = {}\n",
    "for i in range(0, len(lista_codigos)):\n",
    "    diccionario[lista_codigos[i]] = lista_names[i]    "
   ]
  }
 ],
 "metadata": {
  "kernelspec": {
   "display_name": "Python 3",
   "language": "python",
   "name": "python3"
  },
  "language_info": {
   "codemirror_mode": {
    "name": "ipython",
    "version": 3
   },
   "file_extension": ".py",
   "mimetype": "text/x-python",
   "name": "python",
   "nbconvert_exporter": "python",
   "pygments_lexer": "ipython3",
   "version": "3.11.9"
  }
 },
 "nbformat": 4,
 "nbformat_minor": 2
}
