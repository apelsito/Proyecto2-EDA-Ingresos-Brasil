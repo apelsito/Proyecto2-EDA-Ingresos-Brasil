{
 "cells": [
  {
   "cell_type": "markdown",
   "metadata": {},
   "source": [
    "# Fase 2 Limpieza de los datos\n",
    "\n",
    "Tras unir la tabla es momento de unir datos, vamos a seguir reduciendo nulos y a eliminar columnas no deseadas"
   ]
  },
  {
   "cell_type": "code",
   "execution_count": 2,
   "metadata": {},
   "outputs": [],
   "source": [
    "import pandas as pd\n",
    "import numpy as np\n",
    "import matplotlib.pyplot as plt\n",
    "import seaborn as sns\n",
    "import warnings\n",
    "import sys\n",
    "sys.path.append(\"../\") #Para poder importar\n",
    "from src.SupportCleaning import fill_organo, fill_unidad_gestora,fill_missing_organo_superior,fill_missing_organo\n",
    "warnings.filterwarnings('ignore')\n",
    "# Carga el dataset de trabajo\n",
    "pd.set_option(\"display.max_columns\", None) #Ver todo\n",
    "df = pd.read_csv(\"../datos/output/datos-2013_to_2021Fase1.csv\", delimiter=\",\",index_col=0)\n"
   ]
  },
  {
   "cell_type": "markdown",
   "metadata": {},
   "source": [
    "# Objetivo: Reducir nulos a 0\n",
    "\n",
    "Si es posible, ahora que hemos unido los datos, vamos a intentar sacar nuevos diccionarios que nos permita dejar todo rellenado correctamente sin nulos"
   ]
  },
  {
   "cell_type": "code",
   "execution_count": null,
   "metadata": {},
   "outputs": [],
   "source": [
    "condicion = df[\"código del órgano superior\"].isnull()\n",
    "df2 = df[condicion]\n",
    "df2[\"nombre del órgano superior\"].unique()"
   ]
  },
  {
   "cell_type": "code",
   "execution_count": null,
   "metadata": {},
   "outputs": [],
   "source": [
    "condicion = df[\"código del órgano\"].isnull()\n",
    "df2 = df[condicion]\n",
    "df2[\"nombre del órgano\"].unique()"
   ]
  },
  {
   "cell_type": "code",
   "execution_count": null,
   "metadata": {},
   "outputs": [],
   "source": [
    "condicion = df[\"código de la unidad gestora\"].isnull()\n",
    "df2 = df[condicion]\n",
    "df2[\"nombre de la unidad gestora\"].unique()"
   ]
  },
  {
   "cell_type": "markdown",
   "metadata": {},
   "source": [
    "Vemos que todos los códigos y nombres vacios en las 2 primeras columnas se produce porque no hay ninguno de los dos datos rellenados, pero en organo y unidad gestora, vemos que no es así vamos a empezar por ahí.\n",
    "\n",
    "Para corregirlo, vamos a generar un nuevo diccionario, pero esta vez usando los nombres como índices\n"
   ]
  },
  {
   "cell_type": "code",
   "execution_count": null,
   "metadata": {},
   "outputs": [],
   "source": [
    "datos = df.groupby(\"código del órgano\")[\"nombre del órgano\"].first()\n",
    "lista_codigos = list(datos.index)\n",
    "lista_names = list(datos.values)\n",
    "diccionario_organos = {}\n",
    "for i in range(0, len(lista_codigos)):\n",
    "    diccionario_organos[lista_codigos[i]] = lista_names[i]  \n",
    "\n",
    "diccionario_organos "
   ]
  },
  {
   "cell_type": "markdown",
   "metadata": {},
   "source": [
    "Veamos los nulos antes de llamar a la función"
   ]
  },
  {
   "cell_type": "code",
   "execution_count": null,
   "metadata": {},
   "outputs": [],
   "source": [
    "nulos_codorg = df[\"código del órgano\"].isnull().sum()\n",
    "nulos_nameorg = df[\"nombre del órgano\"].isnull().sum()\n",
    "print(nulos_codorg)\n",
    "print(nulos_nameorg)"
   ]
  },
  {
   "cell_type": "markdown",
   "metadata": {},
   "source": [
    "Llamamos a la función que hemos creado para reemplazar nulos por valores válidos"
   ]
  },
  {
   "cell_type": "code",
   "execution_count": 8,
   "metadata": {},
   "outputs": [],
   "source": [
    "fill_organo(df,diccionario_organos) #Pasamos el diccionario, para que si algún día se extiende "
   ]
  },
  {
   "cell_type": "code",
   "execution_count": null,
   "metadata": {},
   "outputs": [],
   "source": [
    "nulos_codorg = df[\"código del órgano\"].isnull().sum()\n",
    "nulos_nameorg = df[\"nombre del órgano\"].isnull().sum()\n",
    "print(nulos_codorg)\n",
    "print(nulos_nameorg)"
   ]
  },
  {
   "cell_type": "code",
   "execution_count": null,
   "metadata": {},
   "outputs": [],
   "source": [
    "condicion = df[\"código del órgano\"].isnull()\n",
    "df2 = df[condicion]\n",
    "df2[\"nombre del órgano\"].unique()"
   ]
  },
  {
   "cell_type": "markdown",
   "metadata": {},
   "source": [
    "Ya hemos dejado los organos con nulos sólo si nombre y código es nulo, hagamos lo mismo con unidad gestora"
   ]
  },
  {
   "cell_type": "code",
   "execution_count": 11,
   "metadata": {},
   "outputs": [],
   "source": [
    "datos = df.groupby(\"código de la unidad gestora\")[\"nombre de la unidad gestora\"].first()\n",
    "lista_codigos2 = list(datos.index)\n",
    "lista_names2 = list(datos.values)\n",
    "diccionario2 = {}\n",
    "for i in range(0, len(lista_codigos2)):\n",
    "    diccionario2[lista_codigos2[i]] = lista_names2[i]    \n",
    "    \n"
   ]
  },
  {
   "cell_type": "code",
   "execution_count": null,
   "metadata": {},
   "outputs": [],
   "source": [
    "nulos_codorg = df[\"código de la unidad gestora\"].isnull().sum()\n",
    "nulos_nameorg = df[\"nombre de la unidad gestora\"].isnull().sum()\n",
    "print(nulos_codorg)\n",
    "print(nulos_nameorg)"
   ]
  },
  {
   "cell_type": "code",
   "execution_count": 13,
   "metadata": {},
   "outputs": [],
   "source": [
    "fill_unidad_gestora(df,diccionario2)"
   ]
  },
  {
   "cell_type": "code",
   "execution_count": null,
   "metadata": {},
   "outputs": [],
   "source": [
    "nulos_codorg = df[\"código de la unidad gestora\"].isnull().sum()\n",
    "nulos_nameorg = df[\"nombre de la unidad gestora\"].isnull().sum()\n",
    "print(nulos_codorg)\n",
    "print(nulos_nameorg)"
   ]
  },
  {
   "cell_type": "markdown",
   "metadata": {},
   "source": [
    "# Convertir los nulos en valores válidos\n",
    "\n",
    "Ahora que ya tenemos esta parte, vamos a intentar convertir en valores válidos los nombres y códigos nulos de todas las columnas\n",
    "Primero veamos si hay correlación "
   ]
  },
  {
   "cell_type": "code",
   "execution_count": null,
   "metadata": {},
   "outputs": [],
   "source": [
    "condicion = df[\"código de la unidad gestora\"].isnull()\n",
    "df2 = df[condicion]\n",
    "df2"
   ]
  },
  {
   "cell_type": "code",
   "execution_count": null,
   "metadata": {},
   "outputs": [],
   "source": [
    "df.groupby([\"código del órgano\", \"código de la unidad gestora\", \"nombre de la unidad gestora\"]).size().reset_index(name='counts').sort_values(by=\"código del órgano\")\n",
    "\n"
   ]
  },
  {
   "cell_type": "code",
   "execution_count": null,
   "metadata": {},
   "outputs": [],
   "source": [
    "c1 = df[\"código del órgano superior\"] == 20000\n",
    "cond = df[\"código del órgano\"] == 67000 \n",
    "a = df[c1]\n",
    "a[\"código del órgano\"].unique()"
   ]
  },
  {
   "cell_type": "code",
   "execution_count": null,
   "metadata": {},
   "outputs": [],
   "source": [
    "c1 = df[\"código del órgano\"] == 22202\n",
    "cond = df[\"código del órgano\"] == 67000 \n",
    "a = df[c1]\n",
    "a[\"código de la unidad gestora\"].unique()"
   ]
  },
  {
   "cell_type": "code",
   "execution_count": null,
   "metadata": {},
   "outputs": [],
   "source": [
    "c1 = df[\"código del órgano superior\"] == 20000\n",
    "cond = df[\"código del órgano\"] == 20101 \n",
    "a = df[cond]\n",
    "a[\"código del órgano superior\"].unique()"
   ]
  },
  {
   "cell_type": "code",
   "execution_count": null,
   "metadata": {},
   "outputs": [],
   "source": [
    "df2 = df[c1]\n",
    "df2[\"código del órgano superior\"].unique()"
   ]
  },
  {
   "cell_type": "code",
   "execution_count": 21,
   "metadata": {},
   "outputs": [],
   "source": [
    "diccionario_organo_unidad = df.groupby(\"código del órgano\")[\"código de la unidad gestora\"].first().dropna().to_dict()"
   ]
  },
  {
   "cell_type": "code",
   "execution_count": null,
   "metadata": {},
   "outputs": [],
   "source": [
    "cond = df[\"código del órgano superior\"].isnull()\n",
    "cond2 = df[\"código de la unidad gestora\"].isnull()\n",
    "df[cond & cond2]"
   ]
  },
  {
   "cell_type": "markdown",
   "metadata": {},
   "source": [
    "# Que vamos a hacer\n",
    "En funcion de lo anterior, nos fijamos que un código de órgano superior tiene múltiples códigos organo, si sacamos un diccionario de que códigos órgano apuntan a qué códigos organo superior podremos rellenar las columnas por código\n",
    "\n",
    "Pero antes haremos lo mismo con el órgano y unidad gestora y ver si funciona"
   ]
  },
  {
   "cell_type": "code",
   "execution_count": null,
   "metadata": {},
   "outputs": [],
   "source": [
    "df.groupby(\"código de la unidad gestora\")[\"código del órgano\"].first().reset_index()"
   ]
  },
  {
   "cell_type": "code",
   "execution_count": 24,
   "metadata": {},
   "outputs": [],
   "source": [
    "datos = df.groupby(\"código de la unidad gestora\")[\"código del órgano\"].first().sort_values()\n",
    "lista_codigos4 = list(datos.index)\n",
    "lista_names4 = list(datos.values)\n",
    "diccionario4 = {}\n",
    "for i in range(0, len(lista_codigos4)):\n",
    "    diccionario4[lista_codigos4[i]] = lista_names4[i]    \n",
    "\n",
    "datos = df.groupby(\"código del órgano\")[\"nombre del órgano\"].first()\n",
    "lista_codigos = list(datos.index)\n",
    "lista_names = list(datos.values)\n",
    "diccionario_organos = {}\n",
    "for i in range(0, len(lista_codigos)):\n",
    "    diccionario_organos[lista_codigos[i]] = lista_names[i]  \n",
    "\n"
   ]
  },
  {
   "cell_type": "code",
   "execution_count": null,
   "metadata": {},
   "outputs": [],
   "source": [
    "nulos_codorg = df[\"código del órgano\"].isnull().sum()\n",
    "nulos_nameorg = df[\"nombre del órgano\"].isnull().sum()\n",
    "print(nulos_codorg)\n",
    "print(nulos_nameorg)"
   ]
  },
  {
   "cell_type": "code",
   "execution_count": 26,
   "metadata": {},
   "outputs": [],
   "source": [
    "fill_missing_organo(df,diccionario4,diccionario_organos)"
   ]
  },
  {
   "cell_type": "code",
   "execution_count": null,
   "metadata": {},
   "outputs": [],
   "source": [
    "nulos_codorg = df[\"código del órgano\"].isnull().sum()\n",
    "nulos_nameorg = df[\"nombre del órgano\"].isnull().sum()\n",
    "print(nulos_codorg)\n",
    "print(nulos_nameorg)"
   ]
  },
  {
   "cell_type": "code",
   "execution_count": null,
   "metadata": {},
   "outputs": [],
   "source": [
    "c = df[\"nombre del órgano superior\"].isnull()\n",
    "df[c].head(1)"
   ]
  },
  {
   "cell_type": "markdown",
   "metadata": {},
   "source": [
    "# Ha funcionado! \n",
    "Nos quedan 13 nulos que se debe a que estaban las 4 columnas en Null\n",
    "\n",
    "Hagamos lo mismo para órgano superior con órgano"
   ]
  },
  {
   "cell_type": "code",
   "execution_count": 29,
   "metadata": {},
   "outputs": [],
   "source": [
    "datos = df.groupby(\"código del órgano\")[\"código del órgano superior\"].first().sort_values()\n",
    "lista_codigos3 = list(datos.index)\n",
    "lista_names3 = list(datos.values)\n",
    "diccionario3 = {}\n",
    "for i in range(0, len(lista_codigos3)):\n",
    "    diccionario3[lista_codigos3[i]] = lista_names3[i]    \n"
   ]
  },
  {
   "cell_type": "code",
   "execution_count": null,
   "metadata": {},
   "outputs": [],
   "source": [
    "nulos_codorg = df[\"código del órgano superior\"].isnull().sum()\n",
    "nulos_nameorg = df[\"nombre del órgano superior\"].isnull().sum()\n",
    "print(nulos_codorg)\n",
    "print(nulos_nameorg)"
   ]
  },
  {
   "cell_type": "code",
   "execution_count": 31,
   "metadata": {},
   "outputs": [],
   "source": [
    "fill_missing_organo_superior(df,diccionario3)"
   ]
  },
  {
   "cell_type": "code",
   "execution_count": null,
   "metadata": {},
   "outputs": [],
   "source": [
    "nulos_codorg = df[\"código del órgano superior\"].isnull().sum()\n",
    "nulos_nameorg = df[\"nombre del órgano superior\"].isnull().sum()\n",
    "print(nulos_codorg)\n",
    "print(nulos_nameorg)"
   ]
  },
  {
   "cell_type": "markdown",
   "metadata": {},
   "source": [
    "Ahora ya tenemos las 4 primeras columnas sin valores nulos, podemos convertir los datos a int"
   ]
  },
  {
   "cell_type": "code",
   "execution_count": 43,
   "metadata": {},
   "outputs": [],
   "source": [
    "df[\"código del órgano superior\"] = df[\"código del órgano superior\"].astype(int)\n",
    "df[\"código del órgano\"] = df[\"código del órgano\"].astype(int)"
   ]
  },
  {
   "cell_type": "code",
   "execution_count": null,
   "metadata": {},
   "outputs": [],
   "source": [
    "check_unidad_multiple_organos = df.groupby(\"código de la unidad gestora\")[\"código del órgano\"].nunique()\n",
    "unidades_multiples_organos = check_unidad_multiple_organos[check_unidad_multiple_organos > 1]\n",
    "\n",
    "# Mostrar las unidades gestoras que están vinculadas a más de un órgano (si existen)\n",
    "print(unidades_multiples_organos)"
   ]
  },
  {
   "cell_type": "code",
   "execution_count": null,
   "metadata": {},
   "outputs": [],
   "source": [
    "df.info()"
   ]
  },
  {
   "cell_type": "code",
   "execution_count": null,
   "metadata": {},
   "outputs": [],
   "source": [
    "c = df[\"código de la unidad gestora\"] == 873001\n",
    "d2 = df[c]\n",
    "d2.head(1)"
   ]
  },
  {
   "cell_type": "markdown",
   "metadata": {},
   "source": [
    "# Clasificar facturas nulas como \"sin información\"\n",
    "\n",
    "Para las columnas categoría económica, origen de los ingresos y tipo de ingresos vamos a cambiar los valores nulos por strings, vamos primero a comprobar como hacerlo\n",
    "\n"
   ]
  },
  {
   "cell_type": "code",
   "execution_count": 75,
   "metadata": {},
   "outputs": [
    {
     "data": {
      "text/plain": [
       "np.int64(0)"
      ]
     },
     "execution_count": 75,
     "metadata": {},
     "output_type": "execute_result"
    }
   ],
   "source": [
    "df[\"categoría económica\"].isnull().sum()        #Sem informação\n"
   ]
  },
  {
   "cell_type": "code",
   "execution_count": 73,
   "metadata": {},
   "outputs": [
    {
     "data": {
      "text/plain": [
       "np.int64(0)"
      ]
     },
     "execution_count": 73,
     "metadata": {},
     "output_type": "execute_result"
    }
   ],
   "source": [
    "df[\"origen de los ingresos\"].isnull().sum() #Sem informação"
   ]
  },
  {
   "cell_type": "code",
   "execution_count": 72,
   "metadata": {},
   "outputs": [
    {
     "data": {
      "text/plain": [
       "np.int64(0)"
      ]
     },
     "execution_count": 72,
     "metadata": {},
     "output_type": "execute_result"
    }
   ],
   "source": [
    "df[\"tipo de ingresos\"].isnull().sum() # lo pasaremos a -> Sem informação"
   ]
  },
  {
   "cell_type": "code",
   "execution_count": 76,
   "metadata": {},
   "outputs": [],
   "source": [
    "# Reemplazar los valores nulos en las columnas especificadas por \"Sem informação\"\n",
    "df[\"tipo de ingresos\"] = df[\"tipo de ingresos\"].fillna(\"Sem informação\")\n",
    "df[\"origen de los ingresos\"] = df[\"origen de los ingresos\"].fillna(\"Sem informação\")\n",
    "df[\"categoría económica\"] = df[\"categoría económica\"].fillna(\"Sem informação\")\n"
   ]
  },
  {
   "cell_type": "code",
   "execution_count": 77,
   "metadata": {},
   "outputs": [
    {
     "name": "stdout",
     "output_type": "stream",
     "text": [
      "<class 'pandas.core.frame.DataFrame'>\n",
      "Index: 1026299 entries, 0 to 1026298\n",
      "Data columns (total 16 columns):\n",
      " #   Column                       Non-Null Count    Dtype  \n",
      "---  ------                       --------------    -----  \n",
      " 0   código del órgano superior   1026299 non-null  int64  \n",
      " 1   nombre del órgano superior   1026299 non-null  object \n",
      " 2   código del órgano            1026299 non-null  int64  \n",
      " 3   nombre del órgano            1026299 non-null  object \n",
      " 4   código de la unidad gestora  1025685 non-null  float64\n",
      " 5   nombre de la unidad gestora  1025685 non-null  object \n",
      " 6   categoría económica          1026299 non-null  object \n",
      " 7   origen de los ingresos       1026299 non-null  object \n",
      " 8   tipo de ingresos             1026299 non-null  object \n",
      " 9   detalle                      996962 non-null   object \n",
      " 10  valor previsto actualizado   974984 non-null   float64\n",
      " 11  valor registrado             999880 non-null   float64\n",
      " 12  valor ejecutado              986834 non-null   float64\n",
      " 13  porcentaje ejecutado         1002165 non-null  float64\n",
      " 14  fecha de registro            779712 non-null   object \n",
      " 15  año fiscal                   1026299 non-null  int64  \n",
      "dtypes: float64(5), int64(3), object(8)\n",
      "memory usage: 133.1+ MB\n"
     ]
    }
   ],
   "source": [
    "df.info()"
   ]
  }
 ],
 "metadata": {
  "kernelspec": {
   "display_name": "Python 3",
   "language": "python",
   "name": "python3"
  },
  "language_info": {
   "codemirror_mode": {
    "name": "ipython",
    "version": 3
   },
   "file_extension": ".py",
   "mimetype": "text/x-python",
   "name": "python",
   "nbconvert_exporter": "python",
   "pygments_lexer": "ipython3",
   "version": "3.11.9"
  }
 },
 "nbformat": 4,
 "nbformat_minor": 2
}
