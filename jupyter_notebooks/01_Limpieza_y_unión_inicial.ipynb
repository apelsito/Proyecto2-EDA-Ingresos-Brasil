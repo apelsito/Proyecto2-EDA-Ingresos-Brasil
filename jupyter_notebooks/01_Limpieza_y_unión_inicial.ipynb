{
 "cells": [
  {
   "cell_type": "markdown",
   "metadata": {},
   "source": [
    "# Fase de Análisis Inicial y Unión de Datos\n",
    "\n",
    "En esta fase el objetivo será analizar todos los conjuntos de datos que tenemos, identificar sus problemas y desarrollar una serie de funciones para solucionar problemas que no nos permiten unir los datos"
   ]
  },
  {
   "cell_type": "code",
   "execution_count": 2,
   "metadata": {},
   "outputs": [],
   "source": [
    "import pandas as pd\n",
    "import numpy as np\n",
    "import matplotlib.pyplot as plt\n",
    "import seaborn as sns\n",
    "import warnings\n",
    "import sys\n",
    "sys.path.append(\"../\") #Para poder importar\n",
    "from src.SupportExploracion import traducir, fill_year, year_to_int, date_to_datetime, numeric_conversion,fill_organo_superior,fill_sub_organos,fill_unidad_gestora\n",
    "warnings.filterwarnings('ignore')\n",
    "# Carga el dataset de trabajo\n",
    "pd.set_option(\"display.max_columns\", None) #Ver todo\n",
    "df_2013 = pd.read_csv(\"../datos/raw/datos-2013.csv\",delimiter=\";\")\n",
    "df_2014 = pd.read_csv(\"../datos/raw/datos-2014.csv\",delimiter=\";\")   \n",
    "df_2015 = pd.read_csv(\"../datos/raw/datos-2015.csv\",delimiter=\";\")\n",
    "df_2016 = pd.read_csv(\"../datos/raw/datos-2016.csv\",delimiter=\";\")\n",
    "df_2017 = pd.read_csv(\"../datos/raw/datos-2017.csv\",delimiter=\";\")\n",
    "df_2018 = pd.read_csv(\"../datos/raw/datos-2018.csv\",delimiter=\";\")\n",
    "df_2019 = pd.read_csv(\"../datos/raw/datos-2019.csv\",delimiter=\";\")\n",
    "df_2020 = pd.read_csv(\"../datos/raw/datos-2020.csv\",delimiter=\";\")\n",
    "df_2021 = pd.read_csv(\"../datos/raw/datos-2021.csv\",delimiter=\";\")"
   ]
  },
  {
   "cell_type": "markdown",
   "metadata": {},
   "source": [
    "En la carga de datos observamos que el delimitador usado es el ; en vez de la ,"
   ]
  },
  {
   "cell_type": "code",
   "execution_count": 3,
   "metadata": {},
   "outputs": [],
   "source": [
    "columnas = list(df_2013.columns)\n",
    "for columna in columnas:\n",
    "    newname = traducir(columna) #Devuelve un diccionario\n",
    "    df_2013.rename(columns=newname,inplace=True)\n",
    "    df_2014.rename(columns=newname,inplace=True)\n",
    "    df_2015.rename(columns=newname,inplace=True)\n",
    "    df_2016.rename(columns=newname,inplace=True)\n",
    "    df_2017.rename(columns=newname,inplace=True)\n",
    "    df_2018.rename(columns=newname,inplace=True)\n",
    "    df_2019.rename(columns=newname,inplace=True)\n",
    "    df_2020.rename(columns=newname,inplace=True)\n",
    "    df_2021.rename(columns=newname,inplace=True)\n",
    "    "
   ]
  },
  {
   "cell_type": "markdown",
   "metadata": {},
   "source": [
    "Realizamos la conversion de todas las columnas de todas las tablas al español y minúscula"
   ]
  },
  {
   "cell_type": "markdown",
   "metadata": {},
   "source": [
    "# Fix año Fiscal\n",
    "\n",
    "Rellenamos en cada Dataframe la columna año fiscal, para dejar la columna con el menor número de nulos posibles y la volvemos tipo int"
   ]
  },
  {
   "cell_type": "code",
   "execution_count": 4,
   "metadata": {},
   "outputs": [],
   "source": [
    "lista_df = [df_2013,df_2014,df_2015,df_2016,df_2017,df_2018,df_2019,df_2020,df_2021]\n",
    "years = [2013,2014,2015,2016,2017,2018,2019,2020,2021]\n",
    "rellenaryear = list(map(fill_year,lista_df,years))\n",
    "pasarint = list(map(year_to_int,lista_df))\n"
   ]
  },
  {
   "cell_type": "markdown",
   "metadata": {},
   "source": [
    "# Pasar fecha de registro a formato datetime\n",
    "\n",
    "Para tener todos los datos en el mismo formato vamos a pasar todas las columnas \"fecha_registro\" a formato datetime ignorando los valores nulos"
   ]
  },
  {
   "cell_type": "code",
   "execution_count": null,
   "metadata": {},
   "outputs": [],
   "source": [
    "lista_df = [df_2013,df_2014,df_2015,df_2016,df_2017,df_2018,df_2019,df_2020,df_2021]\n",
    "todatetime = list(map(date_to_datetime,lista_df))\n",
    "df_2017.info()\n"
   ]
  },
  {
   "cell_type": "markdown",
   "metadata": {},
   "source": [
    "# Convertir valores a numéricos\n",
    "Observamos que las columnas:\n",
    "- valor previsto actualizado\n",
    "- valor registrado\n",
    "- valor ejecutado\n",
    "- porcentaje ejecutado\n",
    "\n",
    "son de tipo object, vamos a convertirlas en numéricas en todos los campos."
   ]
  },
  {
   "cell_type": "code",
   "execution_count": 6,
   "metadata": {},
   "outputs": [],
   "source": [
    "pd.set_option('display.float_format', '{:.2f}'.format) #Usamos esto porque se nos mostraba en notación científica el valor ejecutado\n",
    "lista_df = [df_2013,df_2014,df_2015,df_2016,df_2017,df_2018,df_2019,df_2020,df_2021]\n",
    "tonumeric = list(map(numeric_conversion,lista_df))\n",
    "\n"
   ]
  },
  {
   "cell_type": "markdown",
   "metadata": {},
   "source": [
    "# A partir del análisis inicial, me llama la atención la cantidad de valores nulos en las siguientes columnas:\n",
    "\n",
    "En 2013\n",
    "- Código del órgano superior: 216/4498 valores son nulos\n",
    "- Nombre del órgano superior: 1574/4498 valores son nulos\n",
    "- Código del órgano: 136/4498 valores son nulos\n",
    "- Nombre del órgano: 212/4498 valores son nulos\n",
    "- Código de la unidad gestora: 174/4498 valores son nulos\n",
    "- Nombre de la unidad Gestora: 220/4498 valores son nulos\n",
    "\n",
    "En 2014\n",
    "- Código del órgano superior: 222/4553 valores son nulos\n",
    "- Nombre del órgano superior: 1594/4553 valores son nulos\n",
    "- Código del órgano: 60/4553 valores son nulos\n",
    "- Nombre del órgano: 114/4553 valores son nulos\n",
    "- Código de la unidad gestora: 221/4553 valores son nulos\n",
    "- Nombre de la unidad Gestora: 161/4553 valores son nulos\n",
    "\n",
    "En 2015\n",
    "- Código del órgano superior: 199/4523 valores son nulos\n",
    "- Nombre del órgano superior: 1583/4523 valores son nulos\n",
    "- Código del órgano: 172/4523 valores son nulos\n",
    "- Nombre del órgano: 162/4523 valores son nulos\n",
    "- Código de la unidad gestora: 197/4523 valores son nulos\n",
    "- Nombre de la unidad Gestora: 74/4523 valores son nulos\n",
    "\n",
    "En 2016\n",
    "- Código del órgano superior: 4319/194533 valores son nulos\n",
    "- Nombre del órgano superior: 68087/194533 valores son nulos\n",
    "- Código del órgano: 4027/194533 valores son nulos\n",
    "- Nombre del órgano: 3389/194533 valores son nulos\n",
    "- Código de la unidad gestora: 9322/194533 valores son nulos\n",
    "- Nombre de la unidad Gestora: 2981/194533 valores son nulos\n",
    "\n",
    "En 2017\n",
    "- Código del órgano superior: 4480/190479 valores son nulos\n",
    "- Nombre del órgano superior: 66668/190479 valores son nulos\n",
    "- Código del órgano: 2061/190479 valores son nulos\n",
    "- Nombre del órgano: 5022/190479 valores son nulos\n",
    "- Código de la unidad gestora: 3530/190479 valores son nulos\n",
    "- Nombre de la unidad Gestora: 2403/190479 valores son nulos\n",
    "\n",
    "En 2018\n",
    "- Código del órgano superior: 8254/173944 valores son nulos\n",
    "- Nombre del órgano superior: 60880/173944 valores son nulos\n",
    "- Código del órgano: 5228/173944 valores son nulos\n",
    "- Nombre del órgano: 7333/173944 valores son nulos\n",
    "- Código de la unidad gestora: 7031/173944 valores son nulos\n",
    "- Nombre de la unidad Gestora: 2533/173944 valores son nulos\n",
    "\n",
    "En 2019\n",
    "- Código del órgano superior: 5963/176828 valores son nulos\n",
    "- Nombre del órgano superior: 61890/176828 valores son nulos\n",
    "- Código del órgano: 3185/176828 valores son nulos\n",
    "- Nombre del órgano: 6966/176828 valores son nulos\n",
    "- Código de la unidad gestora: 5281/176828 valores son nulos\n",
    "- Nombre de la unidad Gestora: 1988/176828 valores son nulos\n",
    "\n",
    "En 2020\n",
    "- Código del órgano superior: 5304/142348 valores son nulos\n",
    "- Nombre del órgano superior: 49822/142348 valores son nulos\n",
    "- Código del órgano: 6857/142348 valores son nulos\n",
    "- Nombre del órgano: 7093/142348 valores son nulos\n",
    "- Código de la unidad gestora: 3584/142348 valores son nulos\n",
    "- Nombre de la unidad Gestora: 2646/142348 valores son nulos\n",
    "\n",
    "En 2021\n",
    "- Código del órgano superior: 1402/134593 valores son nulos\n",
    "- Nombre del órgano superior: 47108/134593 valores son nulos\n",
    "- Código del órgano: 3391/134593 valores son nulos\n",
    "- Nombre del órgano: 4596/134593 valores son nulos\n",
    "- Código de la unidad gestora: 4241/134593 valores son nulos\n",
    "- Nombre de la unidad Gestora: 6475/134593 valores son nulos"
   ]
  },
  {
   "cell_type": "markdown",
   "metadata": {},
   "source": [
    "# Obtener diccionario de códigos del órgano superior\n",
    "\n",
    "Viendo los valores únicos de cada uno, puedo extraer un diccionario con los códigos del órgano superior y sus valores, viendo que en 2016, por ejemplo, el diccionario esta completo"
   ]
  },
  {
   "cell_type": "code",
   "execution_count": null,
   "metadata": {},
   "outputs": [],
   "source": [
    "datos = df_2016.groupby(\"código del órgano superior\")[\"nombre del órgano superior\"].first()\n",
    "lista_codigos = list(datos.index)\n",
    "lista_names = list(datos.values)\n",
    "diccionario = {}\n",
    "for i in range(0, len(lista_codigos)):\n",
    "    diccionario[lista_codigos[i]] = lista_names[i]    \n",
    "\n",
    "diccionario"
   ]
  },
  {
   "cell_type": "code",
   "execution_count": null,
   "metadata": {},
   "outputs": [],
   "source": [
    "df = df_2021\n",
    "nulos_codorgsup = df[\"código del órgano superior\"].isnull().sum()\n",
    "nulos_nameorgsup = df[\"nombre del órgano superior\"].isnull().sum()\n",
    "nulos_codorg = df[\"código del órgano\"].isnull().sum()\n",
    "nulos_nameorg = df[\"nombre del órgano\"].isnull().sum()\n",
    "nulos_codudgest = df[\"código de la unidad gestora\"].isnull().sum()\n",
    "nulos_nameudgest = df[\"nombre de la unidad gestora\"].isnull().sum()\n",
    "print(nulos_codorgsup)\n",
    "print(nulos_nameorgsup)\n",
    "print(nulos_codorg)\n",
    "print(nulos_nameorg)\n",
    "print(nulos_codudgest)\n",
    "print(nulos_nameudgest)"
   ]
  },
  {
   "cell_type": "markdown",
   "metadata": {},
   "source": [
    "# Rellenar datos faltantes en nombre del órgano superior\n",
    "\n",
    "Otra observación realizada fue que el código del órgano superior y que del nombre el órgano superior, tenían muchos valores nulos, pero ví que el código era identificativo del nombre, por lo que he desarrollado un diccionario de valores únicos, lo que me ha permitido rellenar nombre del órgano superior por código único, reduciendo significativamente los valores nulos del mismo.\n",
    "\n",
    "La razón de hacerlo en esta fase consiste en la facilidad de trabajar con los datos separados, aunque requiere realizar las operaciones una por una con el map, nos va a permitir tener una tabla total mucho más completa en datos, para luego poder limpiarla y analizar de forma mucho más sencilla\n"
   ]
  },
  {
   "cell_type": "code",
   "execution_count": 9,
   "metadata": {},
   "outputs": [],
   "source": [
    "lista_df = [df_2013,df_2014,df_2015,df_2016,df_2017,df_2018,df_2019,df_2020,df_2021]\n",
    "fillOrgGobiernosuperior = list(map(fill_organo_superior,lista_df))"
   ]
  },
  {
   "cell_type": "markdown",
   "metadata": {},
   "source": [
    "Ahora veremos que los nulos que quedan son debido a que codigo y nombre están vacíos, pero hemos reducido los nulos a 79"
   ]
  },
  {
   "cell_type": "code",
   "execution_count": null,
   "metadata": {},
   "outputs": [],
   "source": [
    "condicion = df_2013[\"nombre del órgano superior\"].isnull()\n",
    "df_2013[condicion]\n"
   ]
  },
  {
   "cell_type": "markdown",
   "metadata": {},
   "source": [
    "# Rellenar código y nombre del órgano\n",
    "\n",
    "Haciendo lo mismo que en órgano superior, imprimimos un diccionario con los valores de cada df, fijándonos en que en 2015 tenemos el máximo número de valores, sin tener ningún nulo, pasando ese diccionario a una función que rellenará todos los data frames reduciendo aún más el número de nulos"
   ]
  },
  {
   "cell_type": "code",
   "execution_count": null,
   "metadata": {},
   "outputs": [],
   "source": [
    "datos = df_2015.groupby(\"código del órgano\")[\"nombre del órgano\"].first()\n",
    "lista_codigos2 = list(datos.index)\n",
    "lista_names2 = list(datos.values)\n",
    "diccionario2 = {}\n",
    "for i in range(0, len(lista_codigos2)):\n",
    "    diccionario2[lista_codigos2[i]] = lista_names2[i]    \n",
    "\n",
    "print(len(diccionario2))\n",
    "diccionario2"
   ]
  },
  {
   "cell_type": "markdown",
   "metadata": {},
   "source": [
    "Ahora llamamos a la función que tiene el diccionario de arriba pasado de forma fija, ya que es el que más valores tenía sin existir nulos"
   ]
  },
  {
   "cell_type": "code",
   "execution_count": 12,
   "metadata": {},
   "outputs": [],
   "source": [
    "lista_df = [df_2013,df_2014,df_2015,df_2016,df_2017,df_2018,df_2019,df_2020,df_2021]\n",
    "fillOrgGobierno = list(map(fill_sub_organos,lista_df))"
   ]
  },
  {
   "cell_type": "code",
   "execution_count": null,
   "metadata": {},
   "outputs": [],
   "source": [
    "condi = df_2013[\"código del órgano\"].isnull()\n",
    "df_2013[condi]"
   ]
  },
  {
   "cell_type": "markdown",
   "metadata": {},
   "source": [
    "# Rellenar código y nombre de la unidad gestora\n",
    "Realizamos lo mismo pero para las otras columnas de unidad gestora, en este caso 2017 parece el diccionario más completo sin nulos"
   ]
  },
  {
   "cell_type": "code",
   "execution_count": null,
   "metadata": {},
   "outputs": [],
   "source": [
    "datos = df_2017.groupby(\"código de la unidad gestora\")[\"nombre de la unidad gestora\"].first()\n",
    "lista_codigos3 = list(datos.index)\n",
    "lista_names3 = list(datos.values)\n",
    "diccionario3 = {}\n",
    "for i in range(0, len(lista_codigos3)):\n",
    "    diccionario3[lista_codigos3[i]] = lista_names3[i]    \n",
    "\n",
    "print(len(diccionario3))\n",
    "diccionario3"
   ]
  },
  {
   "cell_type": "code",
   "execution_count": 15,
   "metadata": {},
   "outputs": [],
   "source": [
    "lista_df = [df_2013,df_2014,df_2015,df_2016,df_2017,df_2018,df_2019,df_2020,df_2021]\n",
    "fillgestora = list(map(fill_unidad_gestora,lista_df))"
   ]
  },
  {
   "cell_type": "markdown",
   "metadata": {},
   "source": [
    "Ahora vemos en que se han quedado los nulos"
   ]
  },
  {
   "cell_type": "code",
   "execution_count": null,
   "metadata": {},
   "outputs": [],
   "source": [
    "df = df_2021\n",
    "nulos_codorgsup = df[\"código del órgano superior\"].isnull().sum()\n",
    "nulos_nameorgsup = df[\"nombre del órgano superior\"].isnull().sum()\n",
    "nulos_codorg = df[\"código del órgano\"].isnull().sum()\n",
    "nulos_nameorg = df[\"nombre del órgano\"].isnull().sum()\n",
    "nulos_codudgest = df[\"código de la unidad gestora\"].isnull().sum()\n",
    "nulos_nameudgest = df[\"nombre de la unidad gestora\"].isnull().sum()\n",
    "print(nulos_codorgsup)\n",
    "print(nulos_nameorgsup)\n",
    "print(nulos_codorg)\n",
    "print(nulos_nameorg)\n",
    "print(nulos_codudgest)\n",
    "print(nulos_nameudgest)"
   ]
  },
  {
   "cell_type": "markdown",
   "metadata": {},
   "source": [
    "# Resultados obtenidos\n",
    "\n",
    "Hemos reducido drásticamente los valores nulos quedando de la siguiente forma\n",
    "\n",
    "En 2013\n",
    "- Código del órgano superior: De 216 nulos a 79\n",
    "- Nombre del órgano superior: De 1574 nulos a 79\n",
    "- Código del órgano: De 136 nulos a 7\n",
    "- Nombre del órgano: De 212 nulos a 7\n",
    "- Código de la unidad gestora: de 174 nulos a 6 \n",
    "- Nombre de la unidad Gestora: de 220 nulos a 5\n",
    "\n",
    "En 2014\n",
    "- Código del órgano superior: De 222 nulos a 78\n",
    "- Nombre del órgano superior: De 1594 nulos a 78\n",
    "- Código del órgano: De 60 nulos a 0\n",
    "- Nombre del órgano: De 114 nulos a 0\n",
    "- Código de la unidad gestora: de 221 nulos a 8\n",
    "- Nombre de la unidad Gestora: de 161 nulos a 7\n",
    "\n",
    "En 2015\n",
    "- Código del órgano superior: De 199 nulos a 70\n",
    "- Nombre del órgano superior: De 1583 nulos a 70\n",
    "- Código del órgano: De 172 nulos a 5\n",
    "- Nombre del órgano: De 162 nulos a 4\n",
    "- Código de la unidad gestora: de 197 nulos a 2\n",
    "- Nombre de la unidad Gestora: de 74 nulos a 1\n",
    "\n",
    "En 2016\n",
    "- Código del órgano superior: De 4319 nulos a 1528\n",
    "- Nombre del órgano superior: De 68087 nulos a 1528\n",
    "- Código del órgano: De 4027 nulos a 62\n",
    "- Nombre del órgano: De 3389 nulos a 63\n",
    "- Código de la unidad gestora: de 9322 nulos a 165\n",
    "- Nombre de la unidad Gestora: de 2981 nulos a 145\n",
    "\n",
    "\n",
    "En 2017\n",
    "- Código del órgano superior: De 4480 nulos a 1585\n",
    "- Nombre del órgano superior: De 66668 nulos a 1585\n",
    "- Código del órgano: De 2061 nulos a 62\n",
    "- Nombre del órgano: De 5022 nulos a 70\n",
    "- Código de la unidad gestora: de 3530 nulos a 50\n",
    "- Nombre de la unidad Gestora: de 2403 nulos a 49\n",
    "\n",
    "En 2018\n",
    "- Código del órgano superior: De 8254 nulos a 2809\n",
    "- Nombre del órgano superior: De 60880 nulos a 2809\n",
    "- Código del órgano: De 5228 nulos a 272\n",
    "- Nombre del órgano: De 7333 nulos a 293\n",
    "- Código de la unidad gestora: de 7031 nulos a 164\n",
    "- Nombre de la unidad Gestora: de 2533 nulos a 112\n",
    "\n",
    "En 2019\n",
    "- Código del órgano superior: De 5963 nulos a 2084\n",
    "- Nombre del órgano superior: De 61890 nulos a 2084\n",
    "- Código del órgano: De 3185 nulos a 160\n",
    "- Nombre del órgano: De 6966 nulos a 202\n",
    "- Código de la unidad gestora: de 5281 nulos a 148\n",
    "- Nombre de la unidad Gestora: de 1988 nulos a 97\n",
    "\n",
    "En 2020\n",
    "- Código del órgano superior: De 5304 nulos a 1851\n",
    "- Nombre del órgano superior: De 49822 nulos a 1851\n",
    "- Código del órgano: De 6857 nulos a 443\n",
    "- Nombre del órgano: De 7093 nulos a 448\n",
    "- Código de la unidad gestora: de 3584 nulos a 143\n",
    "- Nombre de la unidad Gestora: de 2646 nulos a 109\n",
    "\n",
    "En 2020\n",
    "- Código del órgano superior: De 1402 nulos a 461\n",
    "- Nombre del órgano superior: De 47108 nulos a 461\n",
    "- Código del órgano: De 3391 nulos a 175\n",
    "- Nombre del órgano: De 4596 nulos a 215\n",
    "- Código de la unidad gestora: de 4241 nulos a 367\n",
    "- Nombre de la unidad Gestora: de 6475 nulos a 422\n"
   ]
  },
  {
   "cell_type": "markdown",
   "metadata": {},
   "source": [
    "# Union de todos los datos\n",
    "\n",
    "Ahora que individualmente hemos reducido los nulos, hemos cambiado los tipos de datos a tipos correctos, hemos reducido el número total de nulos, y nos hemos asegurado de poder diferenciar por año todos los valores. Podemos dar finalizada la limpieza inicial de datos y realizar la unión para pasar a la fase 2, Limpieza de datos, donde continuaremos reduciendo los valores nulos siempre que nos sea posible"
   ]
  },
  {
   "cell_type": "code",
   "execution_count": 17,
   "metadata": {},
   "outputs": [],
   "source": [
    "lista_df = [df_2013,df_2014,df_2015,df_2016,df_2017,df_2018,df_2019,df_2020,df_2021]\n",
    "df_total = pd.concat(lista_df, ignore_index=True)"
   ]
  },
  {
   "cell_type": "code",
   "execution_count": 19,
   "metadata": {},
   "outputs": [],
   "source": [
    "# Exportamos a csv\n",
    "df_total.to_csv(\"../datos/output/datos-2013_to_2021Fase1.csv\")"
   ]
  }
 ],
 "metadata": {
  "kernelspec": {
   "display_name": "Python 3",
   "language": "python",
   "name": "python3"
  },
  "language_info": {
   "codemirror_mode": {
    "name": "ipython",
    "version": 3
   },
   "file_extension": ".py",
   "mimetype": "text/x-python",
   "name": "python",
   "nbconvert_exporter": "python",
   "pygments_lexer": "ipython3",
   "version": "3.11.9"
  }
 },
 "nbformat": 4,
 "nbformat_minor": 2
}
